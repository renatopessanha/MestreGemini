{
  "nbformat": 4,
  "nbformat_minor": 0,
  "metadata": {
    "colab": {
      "provenance": [],
      "authorship_tag": "ABX9TyMIHpapjs8vlk/E2oJS+7fO",
      "include_colab_link": true
    },
    "kernelspec": {
      "name": "python3",
      "display_name": "Python 3"
    },
    "language_info": {
      "name": "python"
    }
  },
  "cells": [
    {
      "cell_type": "markdown",
      "metadata": {
        "id": "view-in-github",
        "colab_type": "text"
      },
      "source": [
        "<a href=\"https://colab.research.google.com/github/renatopessanha/MestreGemini/blob/main/MestreGemini.ipynb\" target=\"_parent\"><img src=\"https://colab.research.google.com/assets/colab-badge.svg\" alt=\"Open In Colab\"/></a>"
      ]
    },
    {
      "cell_type": "markdown",
      "source": [
        "#**Mestre Gemini**\n",
        "####Projeto da Imersão Inteligência Artificial da Alura utilizando Google Gemini\n",
        "O objetivo deste notebook é um simples chat tentando assumir a personalidade de um Mestre Jedi ao responder as perguntas feitas pelo usuário.\n",
        "\n",
        "Para isso algumas frases são incorporadas ao prompt digitado pelo usuário a fim de direcionar o modelo a fornecer as repostas com a personalidade desejada.\n",
        "\n",
        "No chat, digite \"fim\" para finalizar.\n",
        "\n",
        "\n",
        "\n"
      ],
      "metadata": {
        "id": "BmbAG3s0xgZs"
      }
    },
    {
      "cell_type": "code",
      "execution_count": 1,
      "metadata": {
        "id": "R6bRSRcDMQAV"
      },
      "outputs": [],
      "source": [
        "!pip install -q -U google-generativeai\n",
        "# Import the Python SDK\n",
        "import google.generativeai as genai\n",
        "\n",
        "from google.colab import userdata\n",
        "GOOGLE_API_KEY = userdata.get('SECRET_KEY1')\n",
        "genai.configure(api_key=GOOGLE_API_KEY)"
      ]
    },
    {
      "cell_type": "code",
      "source": [
        "# Set up the model\n",
        "generation_config = {\n",
        "  \"temperature\": 1,\n",
        "  \"top_p\": 0.95,\n",
        "  \"top_k\": 0,\n",
        "  \"max_output_tokens\": 8192,\n",
        "}\n",
        "\n",
        "safety_settings = [\n",
        "  {\n",
        "    \"category\": \"HARM_CATEGORY_HARASSMENT\",\n",
        "    \"threshold\": \"BLOCK_MEDIUM_AND_ABOVE\"\n",
        "  },\n",
        "  {\n",
        "    \"category\": \"HARM_CATEGORY_HATE_SPEECH\",\n",
        "    \"threshold\": \"BLOCK_MEDIUM_AND_ABOVE\"\n",
        "  },\n",
        "  {\n",
        "    \"category\": \"HARM_CATEGORY_SEXUALLY_EXPLICIT\",\n",
        "    \"threshold\": \"BLOCK_MEDIUM_AND_ABOVE\"\n",
        "  },\n",
        "  {\n",
        "    \"category\": \"HARM_CATEGORY_DANGEROUS_CONTENT\",\n",
        "    \"threshold\": \"BLOCK_MEDIUM_AND_ABOVE\"\n",
        "  },\n",
        "]\n",
        "\n",
        "#model = genai.GenerativeModel(model_name=\"gemini-1.5-pro-latest\",\n",
        "model = genai.GenerativeModel(model_name = \"gemini-1.0-pro\",\n",
        "                              generation_config = generation_config,\n",
        "                              safety_settings = safety_settings)\n",
        "\n"
      ],
      "metadata": {
        "id": "jJWGzP5xO_Wt"
      },
      "execution_count": 4,
      "outputs": []
    },
    {
      "cell_type": "code",
      "source": [
        "request_sentimento = (\"Classifique o texto com um desses sentimentos e responda apenas com uma dessas palavras:\\n\"\n",
        "                      \"-Positivo\\n\"\n",
        "                      \"-Negativo\\n\"\n",
        "                      \"-Neutro\\n\"\n",
        "                      \"\\n\"\n",
        "                      \"Texto:\\n\")\n",
        "\n",
        "prefixo = \"Responda como Mestre Yoda: \"\n",
        "\n",
        "mensagem_negativa = \"Em apenas uma frase, o que Mestre Yoda diria ao notar um aprendiz se tornando mau?\"\n",
        "\n",
        "mensagem_neutra = \"Em apenas uma frase, como Mestre Yoda desejaria boa sorte?\"\n",
        "\n",
        "mensagem_positiva = \"Em apenas uma frase, como Mestre Yoda recomendaria ter calma, paciência ou não ser arrogante?\"\n",
        "\n",
        "texto_input = \"Faça sua pergunta, Joven Padawam: \"\n",
        "\n",
        "#texto_teste = \"Hoje o dia está bonito\"\n",
        "#request = request_sentimento + texto_teste\n",
        "#print(request)\n",
        "#print(sentimento.text)\n",
        "#if \"Positivo\" in sentimento.text:\n",
        "#  print(\"funcionou\")\n"
      ],
      "metadata": {
        "id": "kr9M_cZwSXtI"
      },
      "execution_count": 14,
      "outputs": []
    },
    {
      "cell_type": "code",
      "source": [
        "def gerar_conselho(msg):\n",
        "\n",
        "  request = request_sentimento + msg\n",
        "  sentimento = model.generate_content(request)\n",
        "\n",
        "  if \"Positivo\" in sentimento.text:\n",
        "    resposta = model.generate_content(mensagem_positiva)\n",
        "\n",
        "  elif \"Negativo\" in sentimento.text:\n",
        "    resposta = model.generate_content(mensagem_negativa)\n",
        "\n",
        "  else: #\"Neutro\"\n",
        "    resposta = model.generate_content(mensagem_neutra)\n",
        "\n",
        "  print(sentimento.text)\n",
        "\n",
        "  return resposta.text\n"
      ],
      "metadata": {
        "id": "UhJpMTGCr-9N"
      },
      "execution_count": 9,
      "outputs": []
    },
    {
      "cell_type": "code",
      "source": [
        "import textwrap\n",
        "from IPython.display import display\n",
        "from IPython.display import Markdown\n",
        "\n",
        "\n",
        "def to_markdown(text):\n",
        "  text = text.replace('•', '  *')\n",
        "  return Markdown(textwrap.indent(text, '> ', predicate=lambda _: True))\n",
        "\n",
        "#for message in chat.history:\n",
        "#  display(to_markdown(f'**{message.role}**: {message.parts[0].text}'))\n",
        "#  print('-------------------------------')\n"
      ],
      "metadata": {
        "id": "IlIHfHOhwGcW"
      },
      "execution_count": 16,
      "outputs": []
    },
    {
      "cell_type": "code",
      "source": [
        "chat = model.start_chat(history=[])\n"
      ],
      "metadata": {
        "id": "bS1qs7phOZ4J"
      },
      "execution_count": 24,
      "outputs": []
    },
    {
      "cell_type": "code",
      "source": [
        "prompt = input(texto_input)\n",
        "\n",
        "while prompt != \"fim\":\n",
        "\n",
        "  response = chat.send_message(prefixo + prompt)\n",
        "#  print(\"Resposta: \", response.text, \"\\n\")\n",
        "\n",
        "  conselho = gerar_conselho(prompt)\n",
        "#  print(conselho, \"\\n\\n\")\n",
        "\n",
        "  display(to_markdown(f'**Resposta**: {response.text}\\n\\n{conselho}\\n\\n'))\n",
        "  print('------')\n",
        "\n",
        "  prompt = input(texto_input)\n",
        "\n",
        "\n"
      ],
      "metadata": {
        "colab": {
          "base_uri": "https://localhost:8080/"
        },
        "id": "GXSRbf3QU4aQ",
        "outputId": "413fd713-2302-4ad9-bbb4-0341e7191bf1"
      },
      "execution_count": 26,
      "outputs": [
        {
          "name": "stdout",
          "output_type": "stream",
          "text": [
            "Faça sua pergunta, Joven Padawam: fim\n"
          ]
        }
      ]
    },
    {
      "cell_type": "code",
      "source": [],
      "metadata": {
        "id": "8wxJKcetV7WC"
      },
      "execution_count": null,
      "outputs": []
    }
  ]
}